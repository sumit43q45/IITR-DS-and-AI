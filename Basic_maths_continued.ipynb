{
 "cells": [
  {
   "cell_type": "markdown",
   "metadata": {},
   "source": [
    "## Q: Two lines x1 --> x2 and x3 --> x4, print True, if overlapping or touching otherwise print False"
   ]
  },
  {
   "cell_type": "code",
   "execution_count": 4,
   "metadata": {},
   "outputs": [
    {
     "name": "stdout",
     "output_type": "stream",
     "text": [
      "True\n",
      "False\n",
      "True\n",
      "False\n"
     ]
    }
   ],
   "source": [
    "def is_overlapping(x1, x2, x3, x4):\n",
    "    # Ensure x1 is the smaller value and x2 is the larger value\n",
    "    x1, x2 = min(x1, x2), max(x1, x2)\n",
    "    x3, x4 = min(x3, x4), max(x3, x4)\n",
    "    \n",
    "    # Check if x3 or x4 is within the range of x1 to x2 or vice versa\n",
    "    return (x1 <= x3 <= x2) or (x1 <= x4 <= x2) or (x3 <= x1 <= x4) or (x3 <= x2 <= x4)\n",
    "\n",
    "# Example usage:\n",
    "print(is_overlapping(1, 5, 3, 7))  # True\n",
    "print(is_overlapping(1, 5, 6, 7))  # False\n",
    "print(is_overlapping(1, 5, 5, 10)) # True (touching)\n",
    "print(is_overlapping(-5, -10, 10, 5)) # "
   ]
  },
  {
   "cell_type": "markdown",
   "metadata": {},
   "source": [
    "## Q: A rectangle is represented by two opposite corners. Each corner is represented a two number (x, y). Given two rectangles, return True if they are touching or overlapping otherwise return false.\n"
   ]
  },
  {
   "cell_type": "code",
   "execution_count": 5,
   "metadata": {},
   "outputs": [],
   "source": [
    "def is_rectangle_overlapping(fx1,fy1,fx2,fy2,sx1,sy1,sx2,sy2):\n",
    "    x=is_overlapping(fx1,fx2,sx1,sx2)\n",
    "    y=is_overlapping(fy1,fy2,sy1,sy2)\n",
    "    return x and y"
   ]
  },
  {
   "cell_type": "code",
   "execution_count": 7,
   "metadata": {},
   "outputs": [
    {
     "name": "stdout",
     "output_type": "stream",
     "text": [
      "True\n"
     ]
    }
   ],
   "source": [
    "print(is_rectangle_overlapping(1,1,5,5,2,4,4,13))"
   ]
  },
  {
   "cell_type": "code",
   "execution_count": null,
   "metadata": {},
   "outputs": [],
   "source": []
  },
  {
   "cell_type": "code",
   "execution_count": null,
   "metadata": {},
   "outputs": [],
   "source": []
  },
  {
   "cell_type": "markdown",
   "metadata": {},
   "source": [
    "# Q: Write SQ method, Write you own code to do SQRT\n"
   ]
  },
  {
   "cell_type": "code",
   "execution_count": 28,
   "metadata": {
    "code_folding": []
   },
   "outputs": [],
   "source": [
    "def sqr(num):\n",
    "    sq=num*num\n",
    "    return sq\n",
    "\n",
    "def square_root_greater_than_one(x):\n",
    "    left=1\n",
    "    right=x\n",
    "    delta=0.0001\n",
    "    while True:\n",
    "        mid=(left+right)/2\n",
    "        result = sqr(mid)\n",
    "        diff = abs(result - x)\n",
    "        if diff <= delta:\n",
    "            return mid\n",
    "        elif sqr(mid)>x:\n",
    "                right=mid\n",
    "        else:\n",
    "                left=mid\n",
    "def square_root_less_than_one(x):\n",
    "    left=0\n",
    "    right=1\n",
    "    delta=0.0001\n",
    "    while True:\n",
    "        mid=(left+right)/2\n",
    "        result = sqr(mid)\n",
    "        diff = abs(result - x)\n",
    "        if diff <= delta:\n",
    "            return mid\n",
    "        elif sqr(mid)>x:\n",
    "                right=mid\n",
    "        else:\n",
    "                left=mid\n",
    "def square_root(value):\n",
    "    if value>=1:\n",
    "        return square_root_greater_than_one(value)\n",
    "    elif value>=0 and value<1:\n",
    "            return square_root_less_than_one(value)\n",
    "    else:\n",
    "        return \"Invalid input :( Try again!!\""
   ]
  },
  {
   "cell_type": "code",
   "execution_count": 31,
   "metadata": {},
   "outputs": [
    {
     "name": "stdout",
     "output_type": "stream",
     "text": [
      "Invalid input :( Try again!!\n"
     ]
    }
   ],
   "source": [
    "print(square_root(-1))"
   ]
  },
  {
   "cell_type": "markdown",
   "metadata": {},
   "source": [
    "## Q: First write you own method to cube and then do cube root"
   ]
  },
  {
   "cell_type": "code",
   "execution_count": 42,
   "metadata": {},
   "outputs": [],
   "source": [
    "def cub(num):\n",
    "    cube=num*num*num\n",
    "    return cube\n",
    "\n",
    "def cube_root_greater_than_one(x):\n",
    "    left=1\n",
    "    right=x\n",
    "    delta=0.0001\n",
    "    while True:\n",
    "        mid=(left+right)/2\n",
    "        result = cub(mid)\n",
    "        diff = abs(result - x)\n",
    "        if diff <= delta:\n",
    "            return mid\n",
    "        elif cub(mid)>x:\n",
    "                right=mid\n",
    "        else:\n",
    "                left=mid\n",
    "def cube_root_less_than_one(x):\n",
    "    left=0\n",
    "    right=1\n",
    "    delta=0.0001\n",
    "    while True:\n",
    "        mid=(left+right)/2\n",
    "        result = cub(mid)\n",
    "        diff = abs(result - x)\n",
    "        if diff <= delta:\n",
    "            return mid\n",
    "        elif cub(mid)>x:\n",
    "                right=mid\n",
    "        else:\n",
    "                left=mid\n",
    "def cube_root(value):\n",
    "    if value>=1:\n",
    "        return cube_root_greater_than_one(value)\n",
    "    elif value>=0 and value<1:\n",
    "            return cube_root_less_than_one(value)\n",
    "    elif abs(value)>=1:\n",
    "        return cube_root_greater_than_one(abs(value))*-1\n",
    "    elif abs(value)>=0 and abs(value)<1:\n",
    "            return cube_root_less_than_one(abs(value))*-1\n",
    "    else:\n",
    "        return \"Invalid input :( Try again!!\""
   ]
  },
  {
   "cell_type": "code",
   "execution_count": 44,
   "metadata": {},
   "outputs": [
    {
     "name": "stdout",
     "output_type": "stream",
     "text": [
      "-1.9999961853027344\n"
     ]
    }
   ],
   "source": [
    "print(cube_root(-8))"
   ]
  },
  {
   "cell_type": "markdown",
   "metadata": {},
   "source": [
    "## Q: pythagoras"
   ]
  },
  {
   "cell_type": "code",
   "execution_count": 46,
   "metadata": {},
   "outputs": [],
   "source": [
    "def hypotenus(b, h):\n",
    "    y=(b*b+h*h)\n",
    "    hypo=square_root(y)\n",
    "    return hypo"
   ]
  },
  {
   "cell_type": "code",
   "execution_count": 47,
   "metadata": {},
   "outputs": [
    {
     "name": "stdout",
     "output_type": "stream",
     "text": [
      "5.000007629394531\n"
     ]
    }
   ],
   "source": [
    "print(hypotenus(3,4))"
   ]
  },
  {
   "cell_type": "markdown",
   "metadata": {},
   "source": [
    "## Q: Distance in 2D"
   ]
  },
  {
   "cell_type": "code",
   "execution_count": 50,
   "metadata": {},
   "outputs": [
    {
     "name": "stdout",
     "output_type": "stream",
     "text": [
      "5.000007629394531\n"
     ]
    }
   ],
   "source": [
    "\n",
    "\n",
    "def distance_2d(x1, y1, x2, y2):\n",
    "    return hypotenus(x1-x2,y1-y2)\n",
    "\n",
    "print (distance_2d(0,0,3,4))"
   ]
  },
  {
   "cell_type": "markdown",
   "metadata": {},
   "source": [
    "## Q: Distance in 3D"
   ]
  },
  {
   "cell_type": "code",
   "execution_count": 55,
   "metadata": {},
   "outputs": [],
   "source": [
    "def distance_3d(x1, y1,z1, x2, y2,z2):\n",
    "    dis_2d= hypotenus(x1-x2,y1-y2)\n",
    "    dis_3d=hypotenus(dis_2d,z1-z2)\n",
    "    return dis_3d"
   ]
  },
  {
   "cell_type": "code",
   "execution_count": 57,
   "metadata": {},
   "outputs": [
    {
     "name": "stdout",
     "output_type": "stream",
     "text": [
      "7.0710713023617515\n"
     ]
    }
   ],
   "source": [
    "print (distance_3d(1,1,1,4,5,6))"
   ]
  },
  {
   "cell_type": "markdown",
   "metadata": {},
   "source": [
    "# Tower of Hanaoi\n"
   ]
  },
  {
   "cell_type": "code",
   "execution_count": 32,
   "metadata": {},
   "outputs": [],
   "source": [
    "def Tow_Han(n,s,a,t):\n",
    "    \n",
    "    if n>1:\n",
    "        Tow_Han(n-1,a,s,t)\n",
    "        return print(f\"move{n-1} to {a}\")\n",
    "    print(f\"move {n} to {t}\")\n",
    "        "
   ]
  },
  {
   "cell_type": "code",
   "execution_count": 33,
   "metadata": {},
   "outputs": [
    {
     "name": "stdout",
     "output_type": "stream",
     "text": [
      "move 1 to t\n",
      "move1 to a\n"
     ]
    }
   ],
   "source": [
    "Tow_Han(2,\"s\",\"a\",\"t\")"
   ]
  },
  {
   "cell_type": "code",
   "execution_count": 38,
   "metadata": {},
   "outputs": [
    {
     "data": {
      "text/plain": [
       "'def hanoi(n, f, to, aux):\\n    if n == 1:\\n        print(\"Move disk 1 from\",f,\"to\",to);\\n    else:\\n        hanoi(n-1, f, aux, to)\\n        print(\"Move disk\",n,\"from\",f,\"to\",to);\\n        hanoi(n-1, aux, to, f)\\nn = 3\\nf = \\'A\\'\\nto = \\'C\\'\\naux = \\'B\\'\\nhanoi(n, f, aux, to)'"
      ]
     },
     "execution_count": 38,
     "metadata": {},
     "output_type": "execute_result"
    }
   ],
   "source": [
    "'''def hanoi(n, f, to, aux):\n",
    "    if n == 1:\n",
    "        print(\"Move disk 1 from\",f,\"to\",to);\n",
    "    else:\n",
    "        hanoi(n-1, f, aux, to)\n",
    "        print(\"Move disk\",n,\"from\",f,\"to\",to);\n",
    "        hanoi(n-1, aux, to, f)\n",
    "n = 3\n",
    "f = 'A'\n",
    "to = 'C'\n",
    "aux = 'B'\n",
    "hanoi(n, f, aux, to)'''"
   ]
  },
  {
   "cell_type": "code",
   "execution_count": null,
   "metadata": {},
   "outputs": [],
   "source": []
  },
  {
   "cell_type": "code",
   "execution_count": null,
   "metadata": {},
   "outputs": [],
   "source": []
  },
  {
   "cell_type": "code",
   "execution_count": null,
   "metadata": {},
   "outputs": [],
   "source": []
  },
  {
   "cell_type": "code",
   "execution_count": null,
   "metadata": {},
   "outputs": [],
   "source": []
  },
  {
   "cell_type": "code",
   "execution_count": null,
   "metadata": {},
   "outputs": [],
   "source": []
  }
 ],
 "metadata": {
  "kernelspec": {
   "display_name": "Python 3",
   "language": "python",
   "name": "python3"
  },
  "language_info": {
   "codemirror_mode": {
    "name": "ipython",
    "version": 3
   },
   "file_extension": ".py",
   "mimetype": "text/x-python",
   "name": "python",
   "nbconvert_exporter": "python",
   "pygments_lexer": "ipython3",
   "version": "3.6.8"
  },
  "toc": {
   "base_numbering": 1,
   "nav_menu": {},
   "number_sections": true,
   "sideBar": true,
   "skip_h1_title": false,
   "title_cell": "Table of Contents",
   "title_sidebar": "Contents",
   "toc_cell": false,
   "toc_position": {},
   "toc_section_display": true,
   "toc_window_display": false
  }
 },
 "nbformat": 4,
 "nbformat_minor": 2
}
