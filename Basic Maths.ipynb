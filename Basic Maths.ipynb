{
 "cells": [
  {
   "cell_type": "markdown",
   "metadata": {},
   "source": [
    "# Q: Write SQ method, Write you own code to do SQRT\n"
   ]
  },
  {
   "cell_type": "code",
   "execution_count": 28,
   "metadata": {
    "code_folding": []
   },
   "outputs": [],
   "source": [
    "def sqr(num):\n",
    "    sq=num*num\n",
    "    return sq\n",
    "\n",
    "def square_root_greater_than_one(x):\n",
    "    left=1\n",
    "    right=x\n",
    "    delta=0.0001\n",
    "    while True:\n",
    "        mid=(left+right)/2\n",
    "        result = sqr(mid)\n",
    "        diff = abs(result - x)\n",
    "        if diff <= delta:\n",
    "            return mid\n",
    "        elif sqr(mid)>x:\n",
    "                right=mid\n",
    "        else:\n",
    "                left=mid\n",
    "def square_root_less_than_one(x):\n",
    "    left=0\n",
    "    right=1\n",
    "    delta=0.0001\n",
    "    while True:\n",
    "        mid=(left+right)/2\n",
    "        result = sqr(mid)\n",
    "        diff = abs(result - x)\n",
    "        if diff <= delta:\n",
    "            return mid\n",
    "        elif sqr(mid)>x:\n",
    "                right=mid\n",
    "        else:\n",
    "                left=mid\n",
    "def square_root(value):\n",
    "    if value>=1:\n",
    "        return square_root_greater_than_one(value)\n",
    "    elif value>=0 and value<1:\n",
    "            return square_root_less_than_one(value)\n",
    "    else:\n",
    "        return \"Invalid input :( Try again!!\""
   ]
  },
  {
   "cell_type": "code",
   "execution_count": 31,
   "metadata": {},
   "outputs": [
    {
     "name": "stdout",
     "output_type": "stream",
     "text": [
      "Invalid input :( Try again!!\n"
     ]
    }
   ],
   "source": [
    "print(square_root(-1))"
   ]
  },
  {
   "cell_type": "markdown",
   "metadata": {},
   "source": [
    "## Q: First write you own method to cube and then do cube root"
   ]
  },
  {
   "cell_type": "code",
   "execution_count": 42,
   "metadata": {},
   "outputs": [],
   "source": [
    "def cub(num):\n",
    "    cube=num*num*num\n",
    "    return cube\n",
    "\n",
    "def cube_root_greater_than_one(x):\n",
    "    left=1\n",
    "    right=x\n",
    "    delta=0.0001\n",
    "    while True:\n",
    "        mid=(left+right)/2\n",
    "        result = cub(mid)\n",
    "        diff = abs(result - x)\n",
    "        if diff <= delta:\n",
    "            return mid\n",
    "        elif cub(mid)>x:\n",
    "                right=mid\n",
    "        else:\n",
    "                left=mid\n",
    "def cube_root_less_than_one(x):\n",
    "    left=0\n",
    "    right=1\n",
    "    delta=0.0001\n",
    "    while True:\n",
    "        mid=(left+right)/2\n",
    "        result = cub(mid)\n",
    "        diff = abs(result - x)\n",
    "        if diff <= delta:\n",
    "            return mid\n",
    "        elif cub(mid)>x:\n",
    "                right=mid\n",
    "        else:\n",
    "                left=mid\n",
    "def cube_root(value):\n",
    "    if value>=1:\n",
    "        return cube_root_greater_than_one(value)\n",
    "    elif value>=0 and value<1:\n",
    "            return cube_root_less_than_one(value)\n",
    "    elif abs(value)>=1:\n",
    "        return cube_root_greater_than_one(abs(value))*-1\n",
    "    elif abs(value)>=0 and abs(value)<1:\n",
    "            return cube_root_less_than_one(abs(value))*-1\n",
    "    else:\n",
    "        return \"Invalid input :( Try again!!\""
   ]
  },
  {
   "cell_type": "code",
   "execution_count": 44,
   "metadata": {},
   "outputs": [
    {
     "name": "stdout",
     "output_type": "stream",
     "text": [
      "-1.9999961853027344\n"
     ]
    }
   ],
   "source": [
    "print(cube_root(-8))"
   ]
  },
  {
   "cell_type": "markdown",
   "metadata": {},
   "source": [
    "## Q: pythagoras"
   ]
  },
  {
   "cell_type": "code",
   "execution_count": 46,
   "metadata": {},
   "outputs": [],
   "source": [
    "def hypotenus(b, h):\n",
    "    y=(b*b+h*h)\n",
    "    hypo=square_root(y)\n",
    "    return hypo"
   ]
  },
  {
   "cell_type": "code",
   "execution_count": 47,
   "metadata": {},
   "outputs": [
    {
     "name": "stdout",
     "output_type": "stream",
     "text": [
      "5.000007629394531\n"
     ]
    }
   ],
   "source": [
    "print(hypotenus(3,4))"
   ]
  },
  {
   "cell_type": "markdown",
   "metadata": {},
   "source": [
    "## Q: Distance in 2D"
   ]
  },
  {
   "cell_type": "code",
   "execution_count": 50,
   "metadata": {},
   "outputs": [
    {
     "name": "stdout",
     "output_type": "stream",
     "text": [
      "5.000007629394531\n"
     ]
    }
   ],
   "source": [
    "\n",
    "\n",
    "def distance_2d(x1, y1, x2, y2):\n",
    "    return hypotenus(x1-x2,y1-y2)\n",
    "\n",
    "print (distance_2d(0,0,3,4))"
   ]
  },
  {
   "cell_type": "markdown",
   "metadata": {},
   "source": [
    "## Q: Distance in 3D"
   ]
  },
  {
   "cell_type": "code",
   "execution_count": 55,
   "metadata": {},
   "outputs": [],
   "source": [
    "def distance_3d(x1, y1,z1, x2, y2,z2):\n",
    "    dis_2d= hypotenus(x1-x2,y1-y2)\n",
    "    dis_3d=hypotenus(dis_2d,z1-z2)\n",
    "    return dis_3d"
   ]
  },
  {
   "cell_type": "code",
   "execution_count": 57,
   "metadata": {},
   "outputs": [
    {
     "name": "stdout",
     "output_type": "stream",
     "text": [
      "7.0710713023617515\n"
     ]
    }
   ],
   "source": [
    "print (distance_3d(1,1,1,4,5,6))"
   ]
  },
  {
   "cell_type": "code",
   "execution_count": null,
   "metadata": {},
   "outputs": [],
   "source": []
  },
  {
   "cell_type": "code",
   "execution_count": null,
   "metadata": {},
   "outputs": [],
   "source": []
  },
  {
   "cell_type": "code",
   "execution_count": null,
   "metadata": {},
   "outputs": [],
   "source": []
  },
  {
   "cell_type": "code",
   "execution_count": null,
   "metadata": {},
   "outputs": [],
   "source": []
  },
  {
   "cell_type": "code",
   "execution_count": null,
   "metadata": {},
   "outputs": [],
   "source": []
  },
  {
   "cell_type": "code",
   "execution_count": null,
   "metadata": {},
   "outputs": [],
   "source": []
  },
  {
   "cell_type": "code",
   "execution_count": null,
   "metadata": {},
   "outputs": [],
   "source": []
  },
  {
   "cell_type": "code",
   "execution_count": null,
   "metadata": {},
   "outputs": [],
   "source": []
  },
  {
   "cell_type": "code",
   "execution_count": null,
   "metadata": {},
   "outputs": [],
   "source": []
  }
 ],
 "metadata": {
  "kernelspec": {
   "display_name": "Python 3",
   "language": "python",
   "name": "python3"
  },
  "language_info": {
   "codemirror_mode": {
    "name": "ipython",
    "version": 3
   },
   "file_extension": ".py",
   "mimetype": "text/x-python",
   "name": "python",
   "nbconvert_exporter": "python",
   "pygments_lexer": "ipython3",
   "version": "3.6.8"
  },
  "toc": {
   "base_numbering": 1,
   "nav_menu": {},
   "number_sections": true,
   "sideBar": true,
   "skip_h1_title": false,
   "title_cell": "Table of Contents",
   "title_sidebar": "Contents",
   "toc_cell": false,
   "toc_position": {},
   "toc_section_display": true,
   "toc_window_display": false
  }
 },
 "nbformat": 4,
 "nbformat_minor": 2
}
